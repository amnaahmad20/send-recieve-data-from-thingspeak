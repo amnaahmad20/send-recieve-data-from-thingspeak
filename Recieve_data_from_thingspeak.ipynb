{
  "nbformat": 4,
  "nbformat_minor": 0,
  "metadata": {
    "colab": {
      "provenance": [],
      "authorship_tag": "ABX9TyPNV1dYCowVXk9hUjscDwhK",
      "include_colab_link": true
    },
    "kernelspec": {
      "name": "python3",
      "display_name": "Python 3"
    },
    "language_info": {
      "name": "python"
    }
  },
  "cells": [
    {
      "cell_type": "markdown",
      "metadata": {
        "id": "view-in-github",
        "colab_type": "text"
      },
      "source": [
        "<a href=\"https://colab.research.google.com/github/amnaahmad20/send-recieve-data-from-thingspeak/blob/main/Recieve_data_from_thingspeak.ipynb\" target=\"_parent\"><img src=\"https://colab.research.google.com/assets/colab-badge.svg\" alt=\"Open In Colab\"/></a>"
      ]
    },
    {
      "cell_type": "code",
      "execution_count": null,
      "metadata": {
        "id": "hYH4nPAhDSAl"
      },
      "outputs": [],
      "source": [
        "import requests #using python requests library to fetch data\n",
        "import matplotlib.pyplot as plt\n",
        "\n",
        "def read_thingspeak_fields(api_url):\n",
        "    response = requests.get(api_url)\n",
        "    if response.status_code == 200:\n",
        "        return response.json()\n",
        "    else:\n",
        "        print(\"Failed to retrieve data\")\n",
        "        return None\n",
        "\n",
        "# Your ThingSpeak channel read URL for all fields\n",
        "api_url = \"\" # replace with read url of your channel\n",
        "\n",
        "data = read_thingspeak_fields(api_url)\n",
        "if data:\n",
        "    feeds = data.get(\"feeds\", [])\n",
        "    field1_data = [float(feed.get(\"field1\", 0)) for feed in feeds] # field names\n",
        "    field2_data = [float(feed.get(\"field2\", 0)) for feed in feeds]\n",
        "    field3_data = [float(feed.get(\"field3\", 0)) for feed in feeds]\n",
        "    field4_data = [float(feed.get(\"field4\", 0)) for feed in feeds]\n",
        "    timestamps = [feed[\"created_at\"] for feed in feeds]\n",
        " # you can replace them with whatever name you want to display\n",
        "    for feed in feeds:\n",
        "        print(\"Entry ID:\", feed[\"entry_id\"])\n",
        "        print(\"Field 1 (Temperature):\", feed.get(\"field1\"))\n",
        "        print(\"Field 2 (Gas):\", feed.get(\"field2\"))\n",
        "        print(\"Field 3 (Rainfall):\", feed.get(\"field3\"))\n",
        "        print(\"Field 4 (Wind Speed):\", feed.get(\"field4\"))\n",
        "        print(\"Created at:\", feed[\"created_at\"])\n",
        "        print(\"------------------------------\")\n",
        "\n",
        "# this is the graoh part, you can omit if you don't want stats to be displayed.\n",
        "    # Plotting\n",
        "    plt.figure(figsize=(12, 8))\n",
        "\n",
        "    # Temperature Graph\n",
        "    plt.subplot(2, 2, 1)\n",
        "    plt.plot(timestamps, field1_data, marker='o')\n",
        "    plt.title('Temperature')\n",
        "    plt.xlabel('Time')\n",
        "    plt.ylabel('Temperature (°C)')\n",
        "    plt.xticks(rotation=45)\n",
        "\n",
        "    # Gas Graph\n",
        "    plt.subplot(2, 2, 2)\n",
        "    plt.plot(timestamps, field2_data, marker='o', color='r')\n",
        "    plt.title('Gas')\n",
        "    plt.xlabel('Time')\n",
        "    plt.ylabel('Gas Value')\n",
        "    plt.xticks(rotation=45)\n",
        "\n",
        "    # Rainfall Graph\n",
        "    plt.subplot(2, 2, 3)\n",
        "    plt.plot(timestamps, field3_data, marker='o', color='g')\n",
        "    plt.title('Rainfall')\n",
        "    plt.xlabel('Time')\n",
        "    plt.ylabel('Rainfall (mm)')\n",
        "    plt.xticks(rotation=45)\n",
        "\n",
        "    # Wind Speed Graph\n",
        "    plt.subplot(2, 2, 4)\n",
        "    plt.plot(timestamps, field4_data, marker='o', color='b')\n",
        "    plt.title('Wind Speed')\n",
        "    plt.xlabel('Time')\n",
        "    plt.ylabel('Wind Speed (km/h)')\n",
        "    plt.xticks(rotation=45)\n",
        "\n",
        "    plt.tight_layout()\n",
        "    plt.show()\n"
      ]
    }
  ]
}